{
 "cells": [
  {
   "cell_type": "markdown",
   "metadata": {},
   "source": [
    "# This is a demonstration notebook for solving inverse AFC plate problem\n",
    "\n",
    "I will add relevant formulas here later :D"
   ]
  },
  {
   "cell_type": "code",
   "execution_count": 1,
   "metadata": {},
   "outputs": [],
   "source": [
    "import jax\n",
    "import jax.numpy as jnp\n",
    "\n",
    "from jax_plate.Problem import Problem\n",
    "from jax_plate.Utils import *"
   ]
  },
  {
   "cell_type": "markdown",
   "metadata": {},
   "source": [
    "### Set material parameters\n",
    "\n",
    "The geometry, location of test point and loading function are defined in `_problem.edp`. I will change it later when we decide on the format of mesh/geometry, comfortable to the experimental guys"
   ]
  },
  {
   "cell_type": "code",
   "execution_count": 10,
   "metadata": {},
   "outputs": [],
   "source": [
    "# Aluminum triangle from tuan2015chladni\n",
    "rho = 2670. # [kg/m^3]\n",
    "E = 69*1e9 # [Pa]\n",
    "nu = 0.32 # [1]\n",
    "h = 1e-3# [m]\n",
    "D = E*h**3/(12.*(1. - nu**2))\n",
    "# this value i don't know\n",
    "beta = .1 # loss factor, [1]"
   ]
  },
  {
   "cell_type": "code",
   "execution_count": 28,
   "metadata": {},
   "outputs": [],
   "source": [
    "p = Problem(\"_problem.edp\", h, rho)\n",
    "get_afc = p.getAFCFunction(isotropic_to_full)\n",
    "\n",
    "beta = .01\n",
    "\n",
    "N_freqs = 200\n",
    "freqs = jnp.linspace(500, 625, 201, endpoint=True)\n",
    "params = jnp.array([D, nu, beta])\n",
    "\n",
    "ref_afc = get_afc(freqs, params)"
   ]
  },
  {
   "cell_type": "code",
   "execution_count": 29,
   "metadata": {
    "scrolled": true
   },
   "outputs": [
    {
     "data": {
      "text/plain": [
       "[<matplotlib.lines.Line2D at 0x7f28c0e0d9a0>]"
      ]
     },
     "execution_count": 29,
     "metadata": {},
     "output_type": "execute_result"
    },
    {
     "data": {
      "image/png": "[encoded data removed]",
      "text/plain": [
       "<Figure size 432x288 with 2 Axes>"
      ]
     },
     "metadata": {
      "needs_background": "light"
     },
     "output_type": "display_data"
    }
   ],
   "source": [
    "%matplotlib inline\n",
    "import matplotlib.pyplot as plt\n",
    "\n",
    "fig, axs = plt.subplots(1, 2, sharex=True, sharey=True)\n",
    "\n",
    "axs[0].plot(freqs, ref_afc[:, 0])\n",
    "axs[1].plot(freqs, ref_afc[:, 1])"
   ]
  },
  {
   "cell_type": "code",
   "execution_count": 30,
   "metadata": {},
   "outputs": [
    {
     "data": {
      "text/plain": [
       "[<matplotlib.lines.Line2D at 0x7f28c1846190>]"
      ]
     },
     "execution_count": 30,
     "metadata": {},
     "output_type": "execute_result"
    },
    {
     "data": {
      "image/png": "[encoded data removed]",
      "text/plain": [
       "<Figure size 432x288 with 1 Axes>"
      ]
     },
     "metadata": {
      "needs_background": "light"
     },
     "output_type": "display_data"
    }
   ],
   "source": [
    "afc_module = jnp.linalg.norm(ref_afc, axis=1, ord=2)\n",
    "plt.yscale('log')\n",
    "plt.plot(freqs, afc_module)"
   ]
  },
  {
   "cell_type": "markdown",
   "metadata": {},
   "source": [
    "Testing if gradient works"
   ]
  },
  {
   "cell_type": "code",
   "execution_count": null,
   "metadata": {},
   "outputs": [],
   "source": [
    "mse_loss = p.getMSELossFunction(isotropic_to_full, freqs, ref_afc)\n",
    "\n",
    "lam_tikhonov = 1e-1\n",
    "def regularized_loss(params):\n",
    "    return mse_loss(params) + lam_tikhonov*jnp.linalg.norm(params, ord=2)\n",
    "\n",
    "\n",
    "loss_and_grad = jax.jit(jax.value_and_grad(regularized_loss))\n",
    "other_params = params*jnp.array([0.9, 1.1, 1.1])\n",
    "print(loss_and_grad(other_params))"
   ]
  }
 ],
 "metadata": {
  "kernelspec": {
   "display_name": "Python 3",
   "language": "python",
   "name": "python3"
  },
  "language_info": {
   "codemirror_mode": {
    "name": "ipython",
    "version": 3
   },
   "file_extension": ".py",
   "mimetype": "text/x-python",
   "name": "python",
   "nbconvert_exporter": "python",
   "pygments_lexer": "ipython3",
   "version": "3.8.5"
  }
 },
 "nbformat": 4,
 "nbformat_minor": 4
}
